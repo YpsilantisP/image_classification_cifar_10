{
 "cells": [
  {
   "cell_type": "markdown",
   "metadata": {
    "id": "xZqTQ2xDorlU"
   },
   "source": [
    "# Image classification"
   ]
  },
  {
   "cell_type": "markdown",
   "metadata": {
    "id": "8bZyxI69orlY"
   },
   "source": [
    "## Imports"
   ]
  },
  {
   "cell_type": "code",
   "execution_count": 2,
   "metadata": {
    "colab": {
     "base_uri": "https://localhost:8080/"
    },
    "execution": {
     "iopub.execute_input": "2021-11-29T00:21:33.910888Z",
     "iopub.status.busy": "2021-11-29T00:21:33.910229Z",
     "iopub.status.idle": "2021-11-29T00:21:33.920318Z",
     "shell.execute_reply": "2021-11-29T00:21:33.919428Z",
     "shell.execute_reply.started": "2021-11-29T00:21:33.910850Z"
    },
    "id": "UfXmigaHorlZ",
    "outputId": "5c390d0f-34ef-43a0-b268-ded304a6e4cd"
   },
   "outputs": [
    {
     "name": "stdout",
     "output_type": "stream",
     "text": [
      "The model will be running on cuda:0 device\n",
      "\n"
     ]
    }
   ],
   "source": [
    "import os\n",
    "import cv2\n",
    "import math\n",
    "import torch\n",
    "import tarfile\n",
    "import torchvision\n",
    "import numpy as np\n",
    "import pickle as pkl\n",
    "import pandas as pd\n",
    "import torch.nn as nn\n",
    "import matplotlib.pyplot as plt\n",
    "import torch.nn.functional as F\n",
    "import torch.utils.data as data\n",
    "import torchvision.transforms as transforms\n",
    "\n",
    "\n",
    "from PIL import Image\n",
    "from skimage import io\n",
    "from torch.hub import load_state_dict_from_url\n",
    "from torch.utils.data.sampler import SubsetRandomSampler\n",
    "from torch.utils.data import Dataset, DataLoader, random_split\n",
    "from torchvision.transforms.transforms import RandomHorizontalFlip\n",
    "\n",
    "\n",
    "\n",
    "\n",
    "device = torch.device(\"cuda:0\" if torch.cuda.is_available() else \"cpu\") \n",
    "print(\"The model will be running on\", device, \"device\\n\") "
   ]
  },
  {
   "cell_type": "code",
   "execution_count": 3,
   "metadata": {
    "colab": {
     "base_uri": "https://localhost:8080/"
    },
    "id": "LZqCgUgppaa1",
    "outputId": "7aa359a1-fddb-4bdf-ada9-e1e8bd2af314"
   },
   "outputs": [
    {
     "name": "stdout",
     "output_type": "stream",
     "text": [
      "Mounted at /content/drive\n"
     ]
    }
   ],
   "source": [
    "from google.colab import drive\n",
    "drive.mount('/content/drive')"
   ]
  },
  {
   "cell_type": "markdown",
   "metadata": {
    "id": "GqLmIn4GPXF6"
   },
   "source": [
    "## Defining of functions"
   ]
  },
  {
   "cell_type": "code",
   "execution_count": 5,
   "metadata": {
    "id": "Vz6VSs7ANflU"
   },
   "outputs": [],
   "source": [
    "def getDataset(data_augmentation, set_type):\n",
    "    if data_augmentation==True:\n",
    "        transform = transforms.Compose([transforms.Resize((32,32)),\n",
    "                                            transforms.RandomHorizontalFlip(),\n",
    "                                            transforms.RandomRotation(10),\n",
    "                                            transforms.RandomAffine(0, shear=10, scale=(0.8,1.2)),\n",
    "                                            transforms.ColorJitter(brightness=0.2, contrast=0.2, saturation=0.2), # Set the color params\n",
    "                                            transforms.ToTensor(),\n",
    "                                            transforms.Normalize((0.5, 0.5, 0.5), (0.5, 0.5, 0.5))\n",
    "                                            ])\n",
    "    else:\n",
    "        transform = transforms.Compose([transforms.Resize((32,32)),\n",
    "                                        transforms.ToTensor(),\n",
    "                                        transforms.Normalize((0.5, 0.5, 0.5),\n",
    "                                                             (0.5, 0.5, 0.5))\n",
    "                                        ])\n",
    "        \n",
    "    if set_type in ['train', 'validation']:\n",
    "        dataset = torchvision.datasets.CIFAR10(root='./data',\n",
    "                                               train=True,\n",
    "                                               download=True,\n",
    "                                               transform=transform)\n",
    "    elif set_type == 'test':\n",
    "        dataset = torchvision.datasets.CIFAR10(root='./data',\n",
    "                                               train=False,\n",
    "                                               download=True,\n",
    "                                               transform=transform)\n",
    "    return dataset\n",
    "\n",
    "\n",
    "def getTrainValidSampler(dataset, split_ratio=0.2):\n",
    "    \"\"\" Used to allocate indices for train and validation samples \"\"\"\n",
    "    num_dataset = len(dataset)\n",
    "    indices = list(range(num_dataset))\n",
    "    split = int(np.floor(split_ratio * num_dataset))\n",
    "    np.random.seed(1)\n",
    "    np.random.shuffle(indices)\n",
    "    train_idx, valid_idx = indices[split:], indices[:split]\n",
    "    train_s = SubsetRandomSampler(train_idx)\n",
    "    valid_s = SubsetRandomSampler(valid_idx)\n",
    "    return train_s, valid_s\n"
   ]
  },
  {
   "cell_type": "markdown",
   "metadata": {
    "id": "qljuQoWOorlf"
   },
   "source": [
    "**CNN Model:** Creating a new model class by adding a combination of convolutional and fully connected layers, ReLU, and max-pool."
   ]
  },
  {
   "cell_type": "code",
   "execution_count": 7,
   "metadata": {
    "execution": {
     "iopub.execute_input": "2021-11-29T00:25:26.939038Z",
     "iopub.status.busy": "2021-11-29T00:25:26.938364Z",
     "iopub.status.idle": "2021-11-29T00:25:26.948297Z",
     "shell.execute_reply": "2021-11-29T00:25:26.947486Z",
     "shell.execute_reply.started": "2021-11-29T00:25:26.938991Z"
    },
    "id": "8uSUWu-porlf"
   },
   "outputs": [],
   "source": [
    "class NetworkCnn(nn.Module):\n",
    "    def __init__(self):\n",
    "        super().__init__()\n",
    "        self.conv1 = nn.Conv2d(3, 64, kernel_size=3, stride=1, padding=1)\n",
    "        self.conv2 = nn.Conv2d(64, 128, kernel_size=3, stride=1, padding=1)\n",
    "        self.fc1 = nn.Linear(128*8*8, 256)\n",
    "        self.fc2 = nn.Linear(256, 10)\n",
    "\n",
    "    def forward(self, x):\n",
    "        # layer 1\n",
    "        x = self.conv1(x)\n",
    "        x = F.relu(x)\n",
    "        x = F.max_pool2d(x, 2)\n",
    "        # layer 2\n",
    "        x = self.conv2(x)\n",
    "        x = F.relu(x)\n",
    "        x = F.max_pool2d(x, 2)\n",
    "        # fully connected\n",
    "        x = torch.flatten(x, 1)        \n",
    "        x = self.fc1(x)\n",
    "        x = F.relu(x)\n",
    "        x = self.fc2(x)\n",
    "        x = F.log_softmax(x, dim=1)\n",
    "        return x\n"
   ]
  },
  {
   "cell_type": "markdown",
   "metadata": {},
   "source": [
    "**Training Function**"
   ]
  },
  {
   "cell_type": "code",
   "execution_count": 8,
   "metadata": {
    "execution": {
     "iopub.execute_input": "2021-11-29T00:32:35.870589Z",
     "iopub.status.busy": "2021-11-29T00:32:35.869826Z",
     "iopub.status.idle": "2021-11-29T00:32:35.881786Z",
     "shell.execute_reply": "2021-11-29T00:32:35.880497Z",
     "shell.execute_reply.started": "2021-11-29T00:32:35.870546Z"
    },
    "id": "a7a2HWrporlh"
   },
   "outputs": [],
   "source": [
    "\n",
    "def accuracy(cnfm):\n",
    "    return cnfm.trace()/cnfm.sum((0,1))\n",
    "\n",
    "def recalls(cnfm):\n",
    "    return np.diag(cnfm)/cnfm.sum(1)\n",
    "\n",
    "def precisions(cnfm):\n",
    "    return np.diag(cnfm)/cnfm.sum(0)\n",
    "\n",
    "def trainCnnModel(model, train_l, valid_loader, nepochs, learning_rate):\n",
    "    losses_train_cnn = []\n",
    "    val_loss = []\n",
    "    cnfm_train = np.zeros((10,10),dtype=int)\n",
    "    cnfm_val = np.zeros((10,10),dtype=int)\n",
    "    optimizer = torch.optim.Adam(model.parameters(), lr=learning_rate)\n",
    "    loss_fn = nn.CrossEntropyLoss()\n",
    "    labels_length = 10\n",
    "    for epoch in range(nepochs):\n",
    "        # train part\n",
    "        labels_correct = list(0. for i in range(labels_length)) \n",
    "        labels_total = list(0. for i in range(labels_length)) \n",
    "        running_loss = 0.0\n",
    "        for train_val in train_l:\n",
    "            inputs, labels = train_val\n",
    "            inputs, labels = inputs.to(device), labels.to(device)\n",
    "            optimizer.zero_grad()\n",
    "            pred_outputs = model(inputs)\n",
    "            _, predicted = torch.max(pred_outputs, 1)\n",
    "            loss = loss_fn(pred_outputs, labels)\n",
    "            loss.backward()\n",
    "            optimizer.step()\n",
    "            running_loss += loss.item()\n",
    "            results = zip(labels, predicted)\n",
    "            for i in results:\n",
    "                cnfm_train[i[0].item(),i[1].item()] += 1\n",
    "        losses_train_cnn.append(running_loss/len(train_loader))\n",
    "\n",
    "        # validation part\n",
    "        running_loss = 0.0\n",
    "        loss_val = 0\n",
    "        with torch.no_grad():\n",
    "            model.eval()\n",
    "            for val in valid_loader:\n",
    "                inputs_val, labels_val = val\n",
    "                inputs_val, labels_val = inputs_val.to(device), labels_val.to(device)\n",
    "                pred_outputs_val = model(inputs_val)\n",
    "                _, predicted_val = torch.max(pred_outputs_val, 1)\n",
    "                loss_val = loss_fn(pred_outputs_val, labels_val)\n",
    "                running_loss += loss_val.item()\n",
    "                results = zip(labels_val, predicted_val)\n",
    "                for i in results:\n",
    "                    cnfm_val[i[0].item(), i[1].item()] += 1\n",
    "            val_loss.append(running_loss/len(valid_loader))\n",
    "        print('# of epochs: {}, loss: {}, val: {} '.format(epoch, losses_train_cnn[epoch], val_loss[epoch]))\n",
    "    return cnfm_train, cnfm_val, epoch, losses_train_cnn, val_loss"
   ]
  },
  {
   "cell_type": "markdown",
   "metadata": {},
   "source": [
    "## Case without data augmentation"
   ]
  },
  {
   "cell_type": "code",
   "execution_count": 6,
   "metadata": {
    "colab": {
     "base_uri": "https://localhost:8080/",
     "height": 118,
     "referenced_widgets": [
      "87ee0fd39fe74b12b4858d5987bf8980",
      "2fdec0fe0c37493fb1b44efd5890fee1",
      "1f9a7359e91a4dcb930dc6400e8cb841",
      "af972a94c01847188c344014647991ec",
      "48efcf4dd5f845eba230adbe7dab0ef2",
      "156ab1b30bc447c1ba841608600dbd71",
      "1701dfb4f0d44bfe971688c82b6f5b3d",
      "a4e2530a850c4b1b8fd9bc9d870b9647",
      "1ad795c5a61547888f1069d64dd491cc",
      "daab8254315f4d009cd47cab4040bc09",
      "da9220e07b124a1fa1f3cc0fc3b89dc9"
     ]
    },
    "id": "l4yZyc0OWOV1",
    "outputId": "9ad77834-4636-48d6-b972-943d8c0fc204"
   },
   "outputs": [
    {
     "name": "stdout",
     "output_type": "stream",
     "text": [
      "Downloading https://www.cs.toronto.edu/~kriz/cifar-10-python.tar.gz to ./data/cifar-10-python.tar.gz\n"
     ]
    },
    {
     "data": {
      "application/vnd.jupyter.widget-view+json": {
       "model_id": "87ee0fd39fe74b12b4858d5987bf8980",
       "version_major": 2,
       "version_minor": 0
      },
      "text/plain": [
       "  0%|          | 0/170498071 [00:00<?, ?it/s]"
      ]
     },
     "metadata": {},
     "output_type": "display_data"
    },
    {
     "name": "stdout",
     "output_type": "stream",
     "text": [
      "Extracting ./data/cifar-10-python.tar.gz to ./data\n",
      "Files already downloaded and verified\n",
      "Files already downloaded and verified\n"
     ]
    }
   ],
   "source": [
    "# Getting CIFAR10 datasets\n",
    "train_set = getDataset(data_augmentation=False,set_type='train')\n",
    "valid_set = getDataset(data_augmentation=False,set_type='validation')\n",
    "test_set = getDataset(data_augmentation=False,set_type='test')\n",
    "# Setting train validation samplers\n",
    "train_sampler, valid_sampler = getTrainValidSampler(train_set)\n",
    "batch_size = 4\n",
    "# Loading CIFAR10 images\n",
    "train_loader = torch.utils.data.DataLoader(train_set,\n",
    "                                           batch_size=batch_size,\n",
    "                                           sampler=train_sampler,\n",
    "                                           num_workers=0)\n",
    "\n",
    "valid_loader = torch.utils.data.DataLoader(valid_set,\n",
    "                                           batch_size=batch_size,\n",
    "                                           sampler=valid_sampler,\n",
    "                                           num_workers=0)\n",
    "\n",
    "# test_loader = torch.utils.data.DataLoader(test_set, batch_size=batch_size,\n",
    "#                                          shuffle=False, num_workers=0)"
   ]
  },
  {
   "cell_type": "code",
   "execution_count": 10,
   "metadata": {
    "colab": {
     "base_uri": "https://localhost:8080/"
    },
    "execution": {
     "iopub.execute_input": "2021-11-29T00:33:01.768861Z",
     "iopub.status.busy": "2021-11-29T00:33:01.768200Z",
     "iopub.status.idle": "2021-11-29T00:33:29.765742Z",
     "shell.execute_reply": "2021-11-29T00:33:29.764954Z",
     "shell.execute_reply.started": "2021-11-29T00:33:01.768807Z"
    },
    "id": "sCVxHC8Forli",
    "outputId": "47f0fb15-45f2-47d9-af8f-de6b5f29505e",
    "scrolled": true
   },
   "outputs": [
    {
     "name": "stdout",
     "output_type": "stream",
     "text": [
      "# of epochs: 0, loss: 1.351838381254673, val: 1.0955995423167944 \n",
      "# of epochs: 1, loss: 1.0282934839395805, val: 0.9859986931100487 \n",
      "# of epochs: 2, loss: 0.8881098248503986, val: 0.9550737148799934 \n",
      "# of epochs: 3, loss: 0.7805404467216693, val: 0.9683981587940361 \n",
      "# of epochs: 4, loss: 0.6814992997695386, val: 0.9911867737604305 \n",
      "# of epochs: 5, loss: 0.5931240229906456, val: 1.062123484294943 \n",
      "# of epochs: 6, loss: 0.5103314638932942, val: 1.0956360287704912 \n",
      "# of epochs: 7, loss: 0.44069033612610203, val: 1.2782625853822676 \n",
      "# of epochs: 8, loss: 0.3801497224301314, val: 1.4197005401051426 \n",
      "# of epochs: 9, loss: 0.33957264036569595, val: 1.5193783243581942 \n",
      "# of epochs: 10, loss: 0.2890486261068111, val: 1.7644306751950463 \n",
      "# of epochs: 11, loss: 0.2713761223794382, val: 1.855911989764231 \n"
     ]
    }
   ],
   "source": [
    "# instantiating my Model class\n",
    "cnn_model = NetworkCnn().to(device)\n",
    "# running training function\n",
    "cnfm_train, cnfm_val, epoch, train_losses, val_loss = trainCnnModel(cnn_model, train_loader, valid_loader, nepochs=12, learning_rate=0.001)"
   ]
  },
  {
   "cell_type": "code",
   "execution_count": 12,
   "metadata": {
    "colab": {
     "base_uri": "https://localhost:8080/",
     "height": 462
    },
    "execution": {
     "iopub.execute_input": "2021-11-29T00:33:35.419778Z",
     "iopub.status.busy": "2021-11-29T00:33:35.419475Z",
     "iopub.status.idle": "2021-11-29T00:33:35.638883Z",
     "shell.execute_reply": "2021-11-29T00:33:35.638188Z",
     "shell.execute_reply.started": "2021-11-29T00:33:35.419746Z"
    },
    "id": "_K-pKch1orli",
    "outputId": "5de9378c-80c8-424d-8ae5-46d2f72d46c5"
   },
   "outputs": [
    {
     "data": {
      "image/png": "[encoded data removed]",
      "text/plain": [
       "<Figure size 720x504 with 1 Axes>"
      ]
     },
     "metadata": {},
     "output_type": "display_data"
    }
   ],
   "source": [
    "# graph\n",
    "plt.style.use('ggplot')\n",
    "fig = plt.figure(figsize=(10,7))\n",
    "plt.plot(train_losses, label = 'losses', lw=3, alpha=0.3, color='blue')\n",
    "plt.plot(val_loss, label = 'validation', lw=3, alpha=0.4, color='red')\n",
    "plt.legend()\n",
    "plt.xlabel('epoch')\n",
    "plt.ylabel('loss')\n",
    "plt.title('Training loss on a single batch')\n",
    "plt.show()"
   ]
  },
  {
   "cell_type": "markdown",
   "metadata": {},
   "source": [
    "#### We can observe that after the 3rd epoch the model has started overfitting - as the validation loss drifts."
   ]
  },
  {
   "cell_type": "code",
   "execution_count": 14,
   "metadata": {
    "colab": {
     "base_uri": "https://localhost:8080/"
    },
    "id": "zaOtqmnTbbXW",
    "outputId": "aa281061-04bc-4e0b-9a8d-f32bf3dddba5"
   },
   "outputs": [
    {
     "name": "stdout",
     "output_type": "stream",
     "text": [
      "Files already downloaded and verified\n",
      "Files already downloaded and verified\n",
      "Files already downloaded and verified\n"
     ]
    }
   ],
   "source": [
    "# Case with data augmentation\n",
    "\n",
    "# Getting CIFAR10 datasets\n",
    "train_set = getDataset(data_augmentation=True,set_type='train')\n",
    "valid_set = getDataset(data_augmentation=False,set_type='validation')\n",
    "test_set = getDataset(data_augmentation=False,set_type='test')\n",
    "# Setting train validation samplers\n",
    "train_sampler, valid_sampler = getTrainValidSampler(train_set)\n",
    "batch_size = 4\n",
    "# Loading CIFAR10 images\n",
    "train_loader = torch.utils.data.DataLoader(train_set,\n",
    "                                           batch_size=batch_size,\n",
    "                                           sampler=train_sampler,\n",
    "                                           num_workers=0)\n",
    "\n",
    "valid_loader = torch.utils.data.DataLoader(valid_set,\n",
    "                                           batch_size=batch_size,\n",
    "                                           sampler=valid_sampler,\n",
    "                                           num_workers=0)\n",
    "\n",
    "test_loader = torch.utils.data.DataLoader(test_set, batch_size=batch_size,\n",
    "                                         shuffle=False, num_workers=0)"
   ]
  },
  {
   "cell_type": "code",
   "execution_count": 17,
   "metadata": {
    "colab": {
     "base_uri": "https://localhost:8080/"
    },
    "id": "zBNQJFDIcWWS",
    "outputId": "48d8e79d-0206-4407-e3d3-f3e3ac53d1dc"
   },
   "outputs": [
    {
     "name": "stdout",
     "output_type": "stream",
     "text": [
      "# of epochs: 0, loss: 1.7624143834739923, val: 1.517146343421936 \n",
      "# of epochs: 1, loss: 1.5717489187121392, val: 1.4312281906068325 \n",
      "# of epochs: 2, loss: 1.461412964375317, val: 1.3083151160299777 \n",
      "# of epochs: 3, loss: 1.3497970938287676, val: 1.2386549694597722 \n",
      "# of epochs: 4, loss: 1.2862598313048481, val: 1.1996264947250486 \n",
      "# of epochs: 5, loss: 1.2435043809518218, val: 1.123767618021369 \n",
      "# of epochs: 6, loss: 1.2047942142467947, val: 1.0979306928172707 \n",
      "# of epochs: 7, loss: 1.1841525145443157, val: 1.1117619450554252 \n",
      "# of epochs: 8, loss: 1.1569272288225592, val: 1.0617942658089101 \n",
      "# of epochs: 9, loss: 1.1287473127629608, val: 1.0426561416316777 \n",
      "# of epochs: 10, loss: 1.1173001156371087, val: 1.0373233464308083 \n",
      "# of epochs: 11, loss: 1.09890208025123, val: 1.0595500454408118 \n",
      "# of epochs: 12, loss: 1.0904735715329648, val: 0.9980946033069864 \n",
      "# of epochs: 13, loss: 1.0777715779690071, val: 0.9818189375527203 \n",
      "# of epochs: 14, loss: 1.0634217556510122, val: 0.9774399609202519 \n",
      "# of epochs: 15, loss: 1.0511382594197989, val: 1.026340756753832 \n",
      "# of epochs: 16, loss: 1.046996634197049, val: 0.9634867034340278 \n",
      "# of epochs: 17, loss: 1.0329012077877706, val: 0.9862191466342658 \n",
      "# of epochs: 18, loss: 1.0236187209744005, val: 0.9806248841106892 \n",
      "# of epochs: 19, loss: 1.0205955735955854, val: 0.9251543472675374 \n",
      "# of epochs: 20, loss: 1.0120401717968517, val: 1.0407206769186073 \n",
      "# of epochs: 21, loss: 1.0002595291332574, val: 0.9421935332911089 \n",
      "# of epochs: 22, loss: 1.0013310011737282, val: 0.9173069464032538 \n",
      "# of epochs: 23, loss: 0.9948427192645614, val: 0.9479784876014106 \n",
      "# of epochs: 24, loss: 0.9852833911223803, val: 0.8925169469973538 \n",
      "# of epochs: 25, loss: 0.9772881411498004, val: 0.9174114363493397 \n",
      "# of epochs: 26, loss: 0.9749913644482847, val: 0.8800394444460049 \n",
      "# of epochs: 27, loss: 0.9825477049634326, val: 0.9082785671665333 \n",
      "# of epochs: 28, loss: 0.9704141981393972, val: 0.9581522237658966 \n",
      "# of epochs: 29, loss: 0.9783461999318097, val: 1.051575961787859 \n",
      "# of epochs: 30, loss: 0.9595884661045391, val: 0.9112470715548843 \n",
      "# of epochs: 31, loss: 0.9589197450906038, val: 0.9272999945165123 \n",
      "# of epochs: 32, loss: 0.9581579980636364, val: 0.9095810962681659 \n",
      "# of epochs: 33, loss: 0.9499373934855626, val: 0.9389617460587062 \n",
      "# of epochs: 34, loss: 0.9534965360727394, val: 0.9404349039412336 \n",
      "# of epochs: 35, loss: 0.9526133221462835, val: 0.8980083467227873 \n",
      "# of epochs: 36, loss: 0.9498396468763473, val: 0.9209389189956709 \n",
      "# of epochs: 37, loss: 0.9487240329365478, val: 0.906419712382363 \n",
      "# of epochs: 38, loss: 0.9404483361646766, val: 0.9326273934336845 \n",
      "# of epochs: 39, loss: 0.9356126230336725, val: 0.9594880773186917 \n"
     ]
    }
   ],
   "source": [
    "# instantiating my Model class\n",
    "cnn_model = NetworkCnn().to(device)\n",
    "# running training function\n",
    "cnfm_train, cnfm_val, epoch, train_losses, val_loss = trainCnnModel(cnn_model, train_loader, valid_loader, nepochs=40, learning_rate=0.001)"
   ]
  },
  {
   "cell_type": "code",
   "execution_count": 18,
   "metadata": {
    "colab": {
     "base_uri": "https://localhost:8080/",
     "height": 462
    },
    "id": "N-42KDqycjf6",
    "outputId": "a3cdc2bd-ee9f-4f1a-f707-c085cec0a14e"
   },
   "outputs": [
    {
     "data": {
      "image/png": "[encoded data removed]",
      "text/plain": [
       "<Figure size 720x504 with 1 Axes>"
      ]
     },
     "metadata": {},
     "output_type": "display_data"
    }
   ],
   "source": [
    "# graph\n",
    "plt.style.use('ggplot')\n",
    "fig = plt.figure(figsize=(10,7))\n",
    "plt.plot(train_losses, label = 'losses', lw=3, alpha=0.3, color='blue')\n",
    "plt.plot(val_loss, label = 'validation', lw=3, alpha=0.4, color='red')\n",
    "plt.legend()\n",
    "plt.xlabel('epoch')\n",
    "plt.ylabel('loss')\n",
    "plt.title('Training loss on a single batch')\n",
    "plt.show()"
   ]
  },
  {
   "cell_type": "markdown",
   "metadata": {},
   "source": [
    "#### After the data augmentation the model has run 40 epochs without signs of overfitting."
   ]
  },
  {
   "cell_type": "markdown",
   "metadata": {
    "id": "KW-rGqeHorlj"
   },
   "source": [
    "### Confusion matrices"
   ]
  },
  {
   "cell_type": "code",
   "execution_count": 19,
   "metadata": {
    "colab": {
     "base_uri": "https://localhost:8080/"
    },
    "execution": {
     "iopub.execute_input": "2021-11-29T01:30:27.887783Z",
     "iopub.status.busy": "2021-11-29T01:30:27.887487Z",
     "iopub.status.idle": "2021-11-29T01:30:27.898906Z",
     "shell.execute_reply": "2021-11-29T01:30:27.897911Z",
     "shell.execute_reply.started": "2021-11-29T01:30:27.887753Z"
    },
    "id": "KGYXRLeYorlj",
    "outputId": "c0d8e739-b954-40df-de81-80c1f9b5c034"
   },
   "outputs": [
    {
     "name": "stdout",
     "output_type": "stream",
     "text": [
      "Training Accuracy: 62.0%\n",
      "Class 1 : Precision 65.1%  Recall 65.8%\n",
      "Class 2 : Precision 73.0%  Recall 75.2%\n",
      "Class 3 : Precision 53.6%  Recall 50.0%\n",
      "Class 4 : Precision 43.7%  Recall 42.8%\n",
      "Class 5 : Precision 56.5%  Recall 56.6%\n",
      "Class 6 : Precision 53.3%  Recall 49.8%\n",
      "Class 7 : Precision 65.0%  Recall 71.0%\n",
      "Class 8 : Precision 69.0%  Recall 66.1%\n",
      "Class 9 : Precision 69.8%  Recall 73.6%\n",
      "Class 10 : Precision 68.1%  Recall 68.6%\n"
     ]
    }
   ],
   "source": [
    "# show per-class recall and precision cnfm_train, cnfm_val\n",
    "print(f\"Training Accuracy: {accuracy(cnfm_train) :.1%}\")\n",
    "r = recalls(cnfm_train)\n",
    "p = precisions(cnfm_train)\n",
    "for i in range(10):\n",
    "    print(f\"Class {i+1} : Precision {p[i] :.1%}  Recall {r[i] :.1%}\") "
   ]
  },
  {
   "cell_type": "code",
   "execution_count": 20,
   "metadata": {
    "colab": {
     "base_uri": "https://localhost:8080/"
    },
    "execution": {
     "iopub.execute_input": "2021-11-29T01:30:34.282973Z",
     "iopub.status.busy": "2021-11-29T01:30:34.282269Z",
     "iopub.status.idle": "2021-11-29T01:30:34.293809Z",
     "shell.execute_reply": "2021-11-29T01:30:34.292899Z",
     "shell.execute_reply.started": "2021-11-29T01:30:34.282933Z"
    },
    "id": "8gUYNbQOorlj",
    "outputId": "80b6e3d3-b212-4f8a-d09d-2d363ded289c"
   },
   "outputs": [
    {
     "name": "stdout",
     "output_type": "stream",
     "text": [
      "Validation Accuracy: 65.3%\n",
      "Class 1 : Precision 68.8%  Recall 69.0%\n",
      "Class 2 : Precision 76.8%  Recall 77.4%\n",
      "Class 3 : Precision 56.8%  Recall 52.9%\n",
      "Class 4 : Precision 47.7%  Recall 43.3%\n",
      "Class 5 : Precision 61.5%  Recall 59.5%\n",
      "Class 6 : Precision 52.8%  Recall 56.9%\n",
      "Class 7 : Precision 70.2%  Recall 70.0%\n",
      "Class 8 : Precision 68.8%  Recall 71.6%\n",
      "Class 9 : Precision 75.7%  Recall 77.6%\n",
      "Class 10 : Precision 72.3%  Recall 75.4%\n"
     ]
    }
   ],
   "source": [
    "print(f\"Validation Accuracy: {accuracy(cnfm_val) :.1%}\")\n",
    "r = recalls(cnfm_val)\n",
    "p = precisions(cnfm_val)\n",
    "for i in range(10):\n",
    "    print(f\"Class {i+1} : Precision {p[i] :.1%}  Recall {r[i] :.1%}\") "
   ]
  },
  {
   "cell_type": "markdown",
   "metadata": {},
   "source": [
    "## Conclusion\n",
    "* Data augmentation has significantly changed our model in terms of overfitting. \n",
    "* After 40 epoches this model delivered a decent overall performance.\n",
    "* Maybe by running more epochs or using more layers a better performace could be achieved."
   ]
  }
 ],
 "metadata": {
  "accelerator": "GPU",
  "colab": {
   "collapsed_sections": [],
   "machine_shape": "hm",
   "name": "image_classification.ipynb",
   "provenance": []
  },
  "kernelspec": {
   "display_name": "Python 3",
   "language": "python",
   "name": "python3"
  },
  "language_info": {
   "codemirror_mode": {
    "name": "ipython",
    "version": 3
   },
   "file_extension": ".py",
   "mimetype": "text/x-python",
   "name": "python",
   "nbconvert_exporter": "python",
   "pygments_lexer": "ipython3",
   "version": "3.8.8"
  },
  "widgets": {
   "application/vnd.jupyter.widget-state+json": {
    "156ab1b30bc447c1ba841608600dbd71": {
     "model_module": "@jupyter-widgets/controls",
     "model_module_version": "1.5.0",
     "model_name": "DescriptionStyleModel",
     "state": {
      "_model_module": "@jupyter-widgets/controls",
      "_model_module_version": "1.5.0",
      "_model_name": "DescriptionStyleModel",
      "_view_count": null,
      "_view_module": "@jupyter-widgets/base",
      "_view_module_version": "1.2.0",
      "_view_name": "StyleView",
      "description_width": ""
     }
    },
    "1701dfb4f0d44bfe971688c82b6f5b3d": {
     "model_module": "@jupyter-widgets/base",
     "model_module_version": "1.2.0",
     "model_name": "LayoutModel",
     "state": {
      "_model_module": "@jupyter-widgets/base",
      "_model_module_version": "1.2.0",
      "_model_name": "LayoutModel",
      "_view_count": null,
      "_view_module": "@jupyter-widgets/base",
      "_view_module_version": "1.2.0",
      "_view_name": "LayoutView",
      "align_content": null,
      "align_items": null,
      "align_self": null,
      "border": null,
      "bottom": null,
      "display": null,
      "flex": null,
      "flex_flow": null,
      "grid_area": null,
      "grid_auto_columns": null,
      "grid_auto_flow": null,
      "grid_auto_rows": null,
      "grid_column": null,
      "grid_gap": null,
      "grid_row": null,
      "grid_template_areas": null,
      "grid_template_columns": null,
      "grid_template_rows": null,
      "height": null,
      "justify_content": null,
      "justify_items": null,
      "left": null,
      "margin": null,
      "max_height": null,
      "max_width": null,
      "min_height": null,
      "min_width": null,
      "object_fit": null,
      "object_position": null,
      "order": null,
      "overflow": null,
      "overflow_x": null,
      "overflow_y": null,
      "padding": null,
      "right": null,
      "top": null,
      "visibility": null,
      "width": null
     }
    },
    "1ad795c5a61547888f1069d64dd491cc": {
     "model_module": "@jupyter-widgets/base",
     "model_module_version": "1.2.0",
     "model_name": "LayoutModel",
     "state": {
      "_model_module": "@jupyter-widgets/base",
      "_model_module_version": "1.2.0",
      "_model_name": "LayoutModel",
      "_view_count": null,
      "_view_module": "@jupyter-widgets/base",
      "_view_module_version": "1.2.0",
      "_view_name": "LayoutView",
      "align_content": null,
      "align_items": null,
      "align_self": null,
      "border": null,
      "bottom": null,
      "display": null,
      "flex": null,
      "flex_flow": null,
      "grid_area": null,
      "grid_auto_columns": null,
      "grid_auto_flow": null,
      "grid_auto_rows": null,
      "grid_column": null,
      "grid_gap": null,
      "grid_row": null,
      "grid_template_areas": null,
      "grid_template_columns": null,
      "grid_template_rows": null,
      "height": null,
      "justify_content": null,
      "justify_items": null,
      "left": null,
      "margin": null,
      "max_height": null,
      "max_width": null,
      "min_height": null,
      "min_width": null,
      "object_fit": null,
      "object_position": null,
      "order": null,
      "overflow": null,
      "overflow_x": null,
      "overflow_y": null,
      "padding": null,
      "right": null,
      "top": null,
      "visibility": null,
      "width": null
     }
    },
    "1f9a7359e91a4dcb930dc6400e8cb841": {
     "model_module": "@jupyter-widgets/controls",
     "model_module_version": "1.5.0",
     "model_name": "HTMLModel",
     "state": {
      "_dom_classes": [],
      "_model_module": "@jupyter-widgets/controls",
      "_model_module_version": "1.5.0",
      "_model_name": "HTMLModel",
      "_view_count": null,
      "_view_module": "@jupyter-widgets/controls",
      "_view_module_version": "1.5.0",
      "_view_name": "HTMLView",
      "description": "",
      "description_tooltip": null,
      "layout": "IPY_MODEL_1701dfb4f0d44bfe971688c82b6f5b3d",
      "placeholder": "​",
      "style": "IPY_MODEL_156ab1b30bc447c1ba841608600dbd71",
      "value": ""
     }
    },
    "2fdec0fe0c37493fb1b44efd5890fee1": {
     "model_module": "@jupyter-widgets/base",
     "model_module_version": "1.2.0",
     "model_name": "LayoutModel",
     "state": {
      "_model_module": "@jupyter-widgets/base",
      "_model_module_version": "1.2.0",
      "_model_name": "LayoutModel",
      "_view_count": null,
      "_view_module": "@jupyter-widgets/base",
      "_view_module_version": "1.2.0",
      "_view_name": "LayoutView",
      "align_content": null,
      "align_items": null,
      "align_self": null,
      "border": null,
      "bottom": null,
      "display": null,
      "flex": null,
      "flex_flow": null,
      "grid_area": null,
      "grid_auto_columns": null,
      "grid_auto_flow": null,
      "grid_auto_rows": null,
      "grid_column": null,
      "grid_gap": null,
      "grid_row": null,
      "grid_template_areas": null,
      "grid_template_columns": null,
      "grid_template_rows": null,
      "height": null,
      "justify_content": null,
      "justify_items": null,
      "left": null,
      "margin": null,
      "max_height": null,
      "max_width": null,
      "min_height": null,
      "min_width": null,
      "object_fit": null,
      "object_position": null,
      "order": null,
      "overflow": null,
      "overflow_x": null,
      "overflow_y": null,
      "padding": null,
      "right": null,
      "top": null,
      "visibility": null,
      "width": null
     }
    },
    "48efcf4dd5f845eba230adbe7dab0ef2": {
     "model_module": "@jupyter-widgets/controls",
     "model_module_version": "1.5.0",
     "model_name": "HTMLModel",
     "state": {
      "_dom_classes": [],
      "_model_module": "@jupyter-widgets/controls",
      "_model_module_version": "1.5.0",
      "_model_name": "HTMLModel",
      "_view_count": null,
      "_view_module": "@jupyter-widgets/controls",
      "_view_module_version": "1.5.0",
      "_view_name": "HTMLView",
      "description": "",
      "description_tooltip": null,
      "layout": "IPY_MODEL_da9220e07b124a1fa1f3cc0fc3b89dc9",
      "placeholder": "​",
      "style": "IPY_MODEL_daab8254315f4d009cd47cab4040bc09",
      "value": " 170499072/? [00:02&lt;00:00, 88007075.86it/s]"
     }
    },
    "87ee0fd39fe74b12b4858d5987bf8980": {
     "model_module": "@jupyter-widgets/controls",
     "model_module_version": "1.5.0",
     "model_name": "HBoxModel",
     "state": {
      "_dom_classes": [],
      "_model_module": "@jupyter-widgets/controls",
      "_model_module_version": "1.5.0",
      "_model_name": "HBoxModel",
      "_view_count": null,
      "_view_module": "@jupyter-widgets/controls",
      "_view_module_version": "1.5.0",
      "_view_name": "HBoxView",
      "box_style": "",
      "children": [
       "IPY_MODEL_1f9a7359e91a4dcb930dc6400e8cb841",
       "IPY_MODEL_af972a94c01847188c344014647991ec",
       "IPY_MODEL_48efcf4dd5f845eba230adbe7dab0ef2"
      ],
      "layout": "IPY_MODEL_2fdec0fe0c37493fb1b44efd5890fee1"
     }
    },
    "a4e2530a850c4b1b8fd9bc9d870b9647": {
     "model_module": "@jupyter-widgets/controls",
     "model_module_version": "1.5.0",
     "model_name": "ProgressStyleModel",
     "state": {
      "_model_module": "@jupyter-widgets/controls",
      "_model_module_version": "1.5.0",
      "_model_name": "ProgressStyleModel",
      "_view_count": null,
      "_view_module": "@jupyter-widgets/base",
      "_view_module_version": "1.2.0",
      "_view_name": "StyleView",
      "bar_color": null,
      "description_width": ""
     }
    },
    "af972a94c01847188c344014647991ec": {
     "model_module": "@jupyter-widgets/controls",
     "model_module_version": "1.5.0",
     "model_name": "FloatProgressModel",
     "state": {
      "_dom_classes": [],
      "_model_module": "@jupyter-widgets/controls",
      "_model_module_version": "1.5.0",
      "_model_name": "FloatProgressModel",
      "_view_count": null,
      "_view_module": "@jupyter-widgets/controls",
      "_view_module_version": "1.5.0",
      "_view_name": "ProgressView",
      "bar_style": "success",
      "description": "",
      "description_tooltip": null,
      "layout": "IPY_MODEL_1ad795c5a61547888f1069d64dd491cc",
      "max": 170498071,
      "min": 0,
      "orientation": "horizontal",
      "style": "IPY_MODEL_a4e2530a850c4b1b8fd9bc9d870b9647",
      "value": 170498071
     }
    },
    "da9220e07b124a1fa1f3cc0fc3b89dc9": {
     "model_module": "@jupyter-widgets/base",
     "model_module_version": "1.2.0",
     "model_name": "LayoutModel",
     "state": {
      "_model_module": "@jupyter-widgets/base",
      "_model_module_version": "1.2.0",
      "_model_name": "LayoutModel",
      "_view_count": null,
      "_view_module": "@jupyter-widgets/base",
      "_view_module_version": "1.2.0",
      "_view_name": "LayoutView",
      "align_content": null,
      "align_items": null,
      "align_self": null,
      "border": null,
      "bottom": null,
      "display": null,
      "flex": null,
      "flex_flow": null,
      "grid_area": null,
      "grid_auto_columns": null,
      "grid_auto_flow": null,
      "grid_auto_rows": null,
      "grid_column": null,
      "grid_gap": null,
      "grid_row": null,
      "grid_template_areas": null,
      "grid_template_columns": null,
      "grid_template_rows": null,
      "height": null,
      "justify_content": null,
      "justify_items": null,
      "left": null,
      "margin": null,
      "max_height": null,
      "max_width": null,
      "min_height": null,
      "min_width": null,
      "object_fit": null,
      "object_position": null,
      "order": null,
      "overflow": null,
      "overflow_x": null,
      "overflow_y": null,
      "padding": null,
      "right": null,
      "top": null,
      "visibility": null,
      "width": null
     }
    },
    "daab8254315f4d009cd47cab4040bc09": {
     "model_module": "@jupyter-widgets/controls",
     "model_module_version": "1.5.0",
     "model_name": "DescriptionStyleModel",
     "state": {
      "_model_module": "@jupyter-widgets/controls",
      "_model_module_version": "1.5.0",
      "_model_name": "DescriptionStyleModel",
      "_view_count": null,
      "_view_module": "@jupyter-widgets/base",
      "_view_module_version": "1.2.0",
      "_view_name": "StyleView",
      "description_width": ""
     }
    }
   }
  }
 },
 "nbformat": 4,
 "nbformat_minor": 1
}
